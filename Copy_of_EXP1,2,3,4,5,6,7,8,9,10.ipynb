{
  "nbformat": 4,
  "nbformat_minor": 0,
  "metadata": {
    "colab": {
      "provenance": [],
      "include_colab_link": true
    },
    "kernelspec": {
      "name": "python3",
      "display_name": "Python 3"
    },
    "language_info": {
      "name": "python"
    }
  },
  "cells": [
    {
      "cell_type": "markdown",
      "metadata": {
        "id": "view-in-github",
        "colab_type": "text"
      },
      "source": [
        "<a href=\"https://colab.research.google.com/github/cyberdad68/Bug-Management-System/blob/main/Copy_of_EXP1%2C2%2C3%2C4%2C5%2C6%2C7%2C8%2C9%2C10.ipynb\" target=\"_parent\"><img src=\"https://colab.research.google.com/assets/colab-badge.svg\" alt=\"Open In Colab\"/></a>"
      ]
    },
    {
      "cell_type": "code",
      "execution_count": null,
      "metadata": {
        "colab": {
          "base_uri": "https://localhost:8080/"
        },
        "id": "LWsCAWlu4U97",
        "outputId": "9c14cfde-f5ab-4e86-f58e-91d1e4809d5c"
      },
      "outputs": [
        {
          "output_type": "stream",
          "name": "stdout",
          "text": [
            ". . Q . \n",
            "Q . . . \n",
            ". . . Q \n",
            ". Q . . \n"
          ]
        }
      ],
      "source": [
        "global N\n",
        "N = 4\n",
        "\n",
        "def printSolution(board):\n",
        "    for i in range(N):\n",
        "        for j in range(N):\n",
        "            if board[i][j] == 1:\n",
        "                print(\"Q\",end=\" \")\n",
        "            else:\n",
        "                print(\".\",end=\" \")\n",
        "        print()\n",
        "\n",
        "def isSafe(board, row, col):\n",
        "\n",
        "\n",
        "    for i in range(col):\n",
        "        if board[row][i] == 1:\n",
        "            return False\n",
        "\n",
        "    for i, j in zip(range(row, -1, -1),\n",
        "                    range(col, -1, -1)):\n",
        "        if board[i][j] == 1:\n",
        "            return False\n",
        "\n",
        "    for i, j in zip(range(row, N, 1),\n",
        "                    range(col, -1, -1)):\n",
        "        if board[i][j] == 1:\n",
        "            return False\n",
        "\n",
        "    return True\n",
        "\n",
        "\n",
        "def solveNQUtil(board, col):\n",
        "    if col >= N:\n",
        "        return True\n",
        "\n",
        "    for i in range(N):\n",
        "\n",
        "        if isSafe(board, i, col):\n",
        "            board[i][col] = 1\n",
        "\n",
        "\n",
        "            if solveNQUtil(board, col + 1) == True:\n",
        "                return True\n",
        "\n",
        "            board[i][col] = 0\n",
        "\n",
        "    return False\n",
        "\n",
        "def solveNQ():\n",
        "    board = [[0, 0, 0, 0],\n",
        "            [0, 0, 0, 0],\n",
        "            [0, 0, 0, 0],\n",
        "            [0, 0, 0, 0]]\n",
        "\n",
        "    if solveNQUtil(board, 0) == False:\n",
        "        print(\"Solution does not exist\")\n",
        "        return False\n",
        "\n",
        "    printSolution(board)\n",
        "    return True\n",
        "\n",
        "if __name__ == '__main__':\n",
        "    solveNQ()"
      ]
    },
    {
      "cell_type": "code",
      "source": [
        "def vacuum_world():\n",
        "\n",
        "    goal_state = {'A': '0', 'B': '0'} #initial state\n",
        "    cost = 0\n",
        "\n",
        "    location_input = input(\"Enter Location of Vacuum\")    #location of vacuum\n",
        "    status_input = input(\"Enter status of \" + location_input)   #status of 1st room\n",
        "    status_input_complement = input(\"Enter status of other room\")   #status of 2nd room\n",
        "    print(\"Initial Location Condition\" + str(goal_state))   #Condition of Room whether dirty or clean\n",
        "\n",
        "    if location_input == 'A':    #test case A room\n",
        "\n",
        "        print(\"Vacuum is placed in Location A\")\n",
        "        if status_input == '1':\n",
        "            print(\"Location A is Dirty.\")\n",
        "           # suck the dirt and mark it as clean\n",
        "            goal_state['A'] = '0'\n",
        "            cost += 1\n",
        "            print(\"Cost for CLEANING A \" + str(cost))  #cost incremented and printed\n",
        "            print(\"Location A has been Cleaned.\")    #A room cleaned\n",
        "\n",
        "            if status_input_complement == '1':\n",
        "                 # if B is Dirty\n",
        "                print(\"Location B is Dirty.\")\n",
        "                print(\"Moving right to the Location B. \")\n",
        "                cost += 1\n",
        "                print(\"COST for moving RIGHT\" + str(cost))\n",
        "                 # suck the dirt and mark it as clean\n",
        "                goal_state['B'] = '0'\n",
        "                cost += 1\n",
        "                print(\"COST for SUCK \" + str(cost))\n",
        "                print(\"Location B has been Cleaned. \")\n",
        "            else:\n",
        "                print(\"No action\" + str(cost))\n",
        "                print(\"Location B is already clean.\")\n",
        "\n",
        "        if status_input == '0':  #clean\n",
        "            print(\"Location A is already clean \")\n",
        "            if status_input_complement == '1':\n",
        "                print(\"Location B is Dirty.\")\n",
        "                print(\"Moving RIGHT to the Location B. \")\n",
        "                cost += 1\n",
        "                print(\"COST for moving RIGHT \" + str(cost))\n",
        "                goal_state['B'] = '0'\n",
        "                cost += 1\n",
        "                print(\"Cost for SUCK\" + str(cost))\n",
        "                print(\"Location B has been Cleaned. \")\n",
        "            else:\n",
        "                print(\"No action \" + str(cost))\n",
        "                print(cost)\n",
        "                print(\"Location B is already clean.\")\n",
        "\n",
        "    else:\n",
        "        print(\"Vacuum is placed in location B\")\n",
        "        if status_input == '1':\n",
        "            print(\"Location B is Dirty.\")\n",
        "            goal_state['B'] = '0'\n",
        "            cost += 1\n",
        "            print(\"COST for CLEANING \" + str(cost))\n",
        "            print(\"Location B has been Cleaned.\")\n",
        "\n",
        "            if status_input_complement == '1': #dirty\n",
        "                print(\"Location A is Dirty.\")\n",
        "                print(\"Moving LEFT to the Location A. \")\n",
        "                cost += 1\n",
        "                print(\"COST for moving LEFT\" + str(cost))\n",
        "\n",
        "                goal_state['A'] = '0'\n",
        "                cost += 1\n",
        "                print(\"COST for SUCK \" + str(cost))\n",
        "                print(\"Location A has been Cleaned.\")\n",
        "\n",
        "        else:\n",
        "            print(cost)\n",
        "\n",
        "            print(\"Location B is already clean.\")\n",
        "\n",
        "            if status_input_complement == '1':\n",
        "                print(\"Location A is Dirty.\")\n",
        "                print(\"Moving LEFT to the Location A. \")\n",
        "                cost += 1\n",
        "                print(\"COST for moving LEFT \" + str(cost))\n",
        "\n",
        "                goal_state['A'] = '0'\n",
        "                cost += 1\n",
        "                print(\"Cost for SUCK \" + str(cost))\n",
        "                print(\"Location A has been Cleaned. \")\n",
        "            else:\n",
        "                print(\"No action \" + str(cost))\n",
        "                # suck and mark clean\n",
        "                print(\"Location A is already clean.\")\n",
        "\n",
        "# done cleaning\n",
        "    print(\"GOAL STATE: \")\n",
        "    print(goal_state)\n",
        "    print(\"Performance Measurement: \" + str(cost))\n",
        "\n",
        "\n",
        "vacuum_world()"
      ],
      "metadata": {
        "colab": {
          "base_uri": "https://localhost:8080/"
        },
        "id": "VoxyId3V-fVg",
        "outputId": "1c051ab4-d830-4116-e704-47e0f7576af7"
      },
      "execution_count": null,
      "outputs": [
        {
          "output_type": "stream",
          "name": "stdout",
          "text": [
            "Enter Location of VacuumA\n",
            "Enter status of A1\n",
            "Enter status of other room0\n",
            "Initial Location Condition{'A': '0', 'B': '0'}\n",
            "Vacuum is placed in Location A\n",
            "Location A is Dirty.\n",
            "Cost for CLEANING A 1\n",
            "Location A has been Cleaned.\n",
            "No action1\n",
            "Location B is already clean.\n",
            "GOAL STATE: \n",
            "{'A': '0', 'B': '0'}\n",
            "Performance Measurement: 1\n"
          ]
        }
      ]
    },
    {
      "cell_type": "code",
      "source": [
        "from itertools import permutations\n",
        "\n",
        "def is_valid_solution(mapping, words):\n",
        "    # Check if the current mapping of letters to digits is a valid solution\n",
        "    num1 = int(''.join([str(mapping[c]) for c in words[0]]))\n",
        "    num2 = int(''.join([str(mapping[c]) for c in words[1]]))\n",
        "    result = int(''.join([str(mapping[c]) for c in words[2]]))\n",
        "\n",
        "    return num1 + num2 == result and all(mapping[word[0]] != 0 for word in words[1:])\n",
        "\n",
        "def solve_cryptarithmetic(words):\n",
        "    unique_letters = set(''.join(words))\n",
        "\n",
        "    if len(unique_letters) > 10:\n",
        "        print(\"Invalid input: Too many unique letters.\")\n",
        "        return\n",
        "\n",
        "    for perm in permutations(range(10), len(unique_letters)):\n",
        "        mapping = dict(zip(unique_letters, perm))\n",
        "\n",
        "        if is_valid_solution(mapping, words):\n",
        "            print(\"Solution found:\")\n",
        "            for word in words:\n",
        "                print(f\"{word}: {''.join([str(mapping[c]) for c in word])}\")\n",
        "            return\n",
        "\n",
        "    print(\"No solution found.\")\n",
        "\n",
        "# Cryptarithmetic puzzles outputs\n",
        "words = ['SEND', 'MORE', 'MONEY']\n",
        "solve_cryptarithmetic(words)\n"
      ],
      "metadata": {
        "colab": {
          "base_uri": "https://localhost:8080/"
        },
        "id": "d7cKyKiU_c23",
        "outputId": "f0000511-c847-463a-f5a1-f2ed46e1d3af"
      },
      "execution_count": null,
      "outputs": [
        {
          "output_type": "stream",
          "name": "stdout",
          "text": [
            "Solution found:\n",
            "SEND: 9567\n",
            "MORE: 1085\n",
            "MONEY: 10652\n"
          ]
        }
      ]
    },
    {
      "cell_type": "code",
      "source": [
        "import collections\n",
        "\n",
        "# BFS algorithm\n",
        "def bfs(graph, root):\n",
        "\n",
        "    visited, queue = set(), collections.deque([root])\n",
        "    visited.add(root)\n",
        "\n",
        "    while queue:\n",
        "\n",
        "        # Dequeue a vertex from queue\n",
        "        vertex = queue.popleft()\n",
        "        print(str(vertex) + \" \", end=\"\")\n",
        "\n",
        "        # If not visited, mark it as visited, and\n",
        "        # enqueue it\n",
        "        for neighbour in graph[vertex]:\n",
        "            if neighbour not in visited:\n",
        "                visited.add(neighbour)\n",
        "                queue.append(neighbour)\n",
        "\n",
        "        #FIFO followed\n",
        "if __name__ == '__main__':\n",
        "    graph = {0: [1, 2], 1: [2], 2: [3], 3: [1, 2]}\n",
        "    print(\"Following is Breadth First Traversal: \")\n",
        "    bfs(graph, 0)\n"
      ],
      "metadata": {
        "colab": {
          "base_uri": "https://localhost:8080/"
        },
        "id": "hCcSUZ7sJtSo",
        "outputId": "b4455a72-6551-49f1-ddf2-d9805a18da4a"
      },
      "execution_count": null,
      "outputs": [
        {
          "output_type": "stream",
          "name": "stdout",
          "text": [
            "Following is Breadth First Traversal: \n",
            "0 1 2 3 "
          ]
        }
      ]
    },
    {
      "cell_type": "code",
      "source": [
        "# DFS algorithm\n",
        "def dfs(graph, start, visited=None):\n",
        "    if visited is None:\n",
        "        visited = set()\n",
        "    visited.add(start)\n",
        "\n",
        "    print(start)\n",
        "\n",
        "    for next in graph[start] - visited:\n",
        "        dfs(graph, next, visited)\n",
        "    return visited\n",
        "\n",
        "  #LIFO followed\n",
        "graph = {'0': set(['1', '2']),\n",
        "         '1': set(['0', '3', '4']),\n",
        "         '2': set(['0']),\n",
        "         '3': set(['1']),\n",
        "         '4': set(['2', '3'])}\n",
        "\n",
        "dfs(graph, '0')"
      ],
      "metadata": {
        "colab": {
          "base_uri": "https://localhost:8080/"
        },
        "id": "_-h1fx_7FQHK",
        "outputId": "ec2491e6-969a-48ee-c5ef-12ac24354353"
      },
      "execution_count": null,
      "outputs": [
        {
          "output_type": "stream",
          "name": "stdout",
          "text": [
            "0\n",
            "1\n",
            "3\n",
            "4\n",
            "2\n",
            "2\n"
          ]
        },
        {
          "output_type": "execute_result",
          "data": {
            "text/plain": [
              "{'0', '1', '2', '3', '4'}"
            ]
          },
          "metadata": {},
          "execution_count": 2
        }
      ]
    },
    {
      "cell_type": "code",
      "source": [
        "from queue import PriorityQueue\n",
        "\n",
        "v = 14\n",
        "graph = [[] for _ in range(v)]\n",
        "\n",
        "def a_star_search(actual_src, target, n, heuristic):\n",
        "    visited = [False] * n\n",
        "    pq = PriorityQueue()\n",
        "    pq.put((0, actual_src))\n",
        "    visited[actual_src] = True\n",
        "\n",
        "    while not pq.empty():\n",
        "        _, u = pq.get()\n",
        "        print(u, end=\" \")\n",
        "\n",
        "        if u == target:\n",
        "            break\n",
        "\n",
        "        for v, c in graph[u]:\n",
        "            if not visited[v]:\n",
        "                visited[v] = True\n",
        "                pq.put((heuristic(v, target) + c, v))\n",
        "\n",
        "    print()\n",
        "\n",
        "def best_first_search(actual_src, target, n):\n",
        "    visited = [False] * n\n",
        "    pq = PriorityQueue()\n",
        "    pq.put((0, actual_src))\n",
        "    visited[actual_src] = True\n",
        "\n",
        "    while not pq.empty():\n",
        "        u = pq.get()[1]\n",
        "        print(u, end=\" \")\n",
        "\n",
        "        if u == target:\n",
        "            break\n",
        "\n",
        "        for v, c in graph[u]:\n",
        "            if not visited[v]:\n",
        "                visited[v] = True\n",
        "                pq.put((c, v))\n",
        "\n",
        "    print()\n",
        "\n",
        "def addedge(x, y, cost):\n",
        "    graph[x].append((y, cost))\n",
        "    graph[y].append((x, cost))\n",
        "\n",
        "def heuristic(node, goal):\n",
        "    # Example heuristic: Manhattan distance\n",
        "    node_x, node_y = divmod(node, 4)\n",
        "    goal_x, goal_y = divmod(goal, 4)\n",
        "    return abs(node_x - goal_x) + abs(node_y - goal_y)\n",
        "\n",
        "# Adding edges to the graph\n",
        "addedge(0, 1, 3)\n",
        "addedge(0, 2, 6)\n",
        "addedge(0, 3, 5)\n",
        "addedge(1, 4, 9)\n",
        "addedge(1, 5, 8)\n",
        "addedge(2, 6, 12)\n",
        "addedge(2, 7, 14)\n",
        "addedge(3, 8, 7)\n",
        "addedge(8, 9, 5)\n",
        "addedge(8, 10, 6)\n",
        "addedge(9, 11, 1)\n",
        "addedge(9, 12, 10)\n",
        "addedge(9, 13, 2)\n",
        "\n",
        "source = 0\n",
        "target = 9\n",
        "\n",
        "print(\"Best First Search Path:\")\n",
        "best_first_search(source, target, v)\n",
        "\n",
        "print(\"\\nA* Search Path:\")\n",
        "a_star_search(source, target, v, heuristic)"
      ],
      "metadata": {
        "id": "V0ObavClLqzg",
        "colab": {
          "base_uri": "https://localhost:8080/"
        },
        "outputId": "68353450-ff54-4ec3-c767-3a4bfe6cb0e2"
      },
      "execution_count": null,
      "outputs": [
        {
          "output_type": "stream",
          "name": "stdout",
          "text": [
            "Best First Search Path:\n",
            "0 1 3 2 8 9 \n",
            "\n",
            "A* Search Path:\n",
            "0 1 2 3 8 9 \n"
          ]
        }
      ]
    },
    {
      "cell_type": "code",
      "source": [
        "import math\n",
        "\n",
        "MAX, MIN = 1000, -1000\n",
        "\n",
        "def minimax_alpha_beta(depth, nodeIndex, maximizingPlayer, values, alpha, beta):\n",
        "    if depth == 3:\n",
        "        return values[nodeIndex]\n",
        "\n",
        "    if maximizingPlayer:\n",
        "        best = MIN\n",
        "        for i in range(0, 2):\n",
        "            val = minimax_alpha_beta(depth + 1, nodeIndex * 2 + i, False, values, alpha, beta)\n",
        "            best = max(best, val)\n",
        "            alpha = max(alpha, best)\n",
        "            if beta <= alpha:\n",
        "                break\n",
        "        return best\n",
        "    else:\n",
        "        best = MAX\n",
        "        for i in range(0, 2):\n",
        "            val = minimax_alpha_beta(depth + 1, nodeIndex * 2 + i, True, values, alpha, beta)\n",
        "            best = min(best, val)\n",
        "            beta = min(beta, best)\n",
        "            if beta <= alpha:\n",
        "                break\n",
        "        return best\n",
        "\n",
        "def minimax_with_alpha_beta(scores):\n",
        "    treeDepth = math.log(len(scores), 2)\n",
        "    return minimax_alpha_beta(0, 0, True, scores, MIN, MAX)\n",
        "\n",
        "def minimax_simple(curDepth, nodeIndex, maxTurn, scores, targetDepth):\n",
        "    if curDepth == targetDepth:\n",
        "        return scores[nodeIndex]\n",
        "    if maxTurn:\n",
        "        return max(minimax_simple(curDepth + 1, nodeIndex * 2, False, scores, targetDepth),\n",
        "                   minimax_simple(curDepth + 1, nodeIndex * 2 + 1, False, scores, targetDepth))\n",
        "    else:\n",
        "        return min(minimax_simple(curDepth + 1, nodeIndex * 2, True, scores, targetDepth),\n",
        "                   minimax_simple(curDepth + 1, nodeIndex * 2 + 1, True, scores, targetDepth))\n",
        "\n",
        "def minimax_combined(scores):\n",
        "    treeDepth = math.log(len(scores), 2)\n",
        "    return minimax_simple(0, 0, True, scores, treeDepth)\n",
        "\n",
        "# Driver code\n",
        "scores = [3, 5, 2, 9, 12, 5, 23, 23]\n",
        "\n",
        "print(\"Using Minimax with Alpha-Beta Pruning:\")\n",
        "print(\"The optimal value is:\", minimax_with_alpha_beta(scores))\n",
        "\n",
        "print(\"\\nUsing Simple Minimax:\")\n",
        "print(\"The optimal value is:\", minimax_combined(scores))"
      ],
      "metadata": {
        "colab": {
          "base_uri": "https://localhost:8080/"
        },
        "id": "OZfu_TtHRALW",
        "outputId": "b9afb649-4a4b-402b-d16e-d011b313446e"
      },
      "execution_count": null,
      "outputs": [
        {
          "output_type": "stream",
          "name": "stdout",
          "text": [
            "Using Minimax with Alpha-Beta Pruning:\n",
            "The optimal value is: 12\n",
            "\n",
            "Using Simple Minimax:\n",
            "The optimal value is: 12\n"
          ]
        }
      ]
    },
    {
      "cell_type": "code",
      "source": [
        "import numpy as np\n",
        "\n",
        "def linear_regression(X, y):\n",
        "    # Add a column of ones to X for the intercept term\n",
        "    X = np.c_[np.ones(X.shape[0]), X]\n",
        "\n",
        "    # Calculate the coefficients using the normal equation\n",
        "    theta = np.linalg.inv(X.T @ X) @ X.T @ y\n",
        "\n",
        "    return theta\n",
        "\n",
        "# Function to get input data from user\n",
        "def get_input_data():\n",
        "    num_samples = int(input(\"Enter the number of data points: \"))\n",
        "    num_features = int(input(\"Enter the number of features: \"))\n",
        "\n",
        "    X = []\n",
        "    y = []\n",
        "    for i in range(num_samples):\n",
        "        print(f\"Enter features for data point {i+1}:\")\n",
        "        features = [float(input()) for _ in range(num_features)]\n",
        "        X.append(features)\n",
        "        label = float(input(f\"Enter label for data point {i+1}: \"))\n",
        "        y.append(label)\n",
        "\n",
        "    return np.array(X), np.array(y)\n",
        "\n",
        "# Get input data from user\n",
        "X, y = get_input_data()\n",
        "\n",
        "# Perform linear regression\n",
        "theta = linear_regression(X, y)\n",
        "\n",
        "print(\"Coefficients (theta):\", theta)"
      ],
      "metadata": {
        "colab": {
          "base_uri": "https://localhost:8080/"
        },
        "id": "FvmNoZ9ujAUA",
        "outputId": "9aeb9009-58ae-4532-9aed-173ac20ea68e"
      },
      "execution_count": null,
      "outputs": [
        {
          "output_type": "stream",
          "name": "stdout",
          "text": [
            "Enter the number of data points: 3\n",
            "Enter the number of features: 2\n",
            "Enter features for data point 1:\n",
            "23\n",
            "12\n",
            "Enter label for data point 1: 99\n",
            "Enter features for data point 2:\n",
            "47\n",
            "8\n",
            "Enter label for data point 2: 100\n",
            "Enter features for data point 3:\n",
            "12\n",
            "33\n",
            "Enter label for data point 3: 111\n",
            "Coefficients (theta): [87.75  0.15  0.65]\n"
          ]
        }
      ]
    },
    {
      "cell_type": "code",
      "source": [
        "import keras\n",
        "from keras.datasets import mnist\n",
        "from keras.models import Sequential\n",
        "from keras.layers import Dense, Dropout, Flatten\n",
        "from keras.layers import Conv2D, MaxPooling2D\n",
        "from keras import backend as K\n",
        "\n",
        "# the data, split between train and test sets\n",
        "(x_train, y_train), (x_test, y_test) = mnist.load_data()\n",
        "\n",
        "print(x_train.shape, y_train.shape)\n",
        "\n",
        "\n",
        "num_classes=10\n",
        "x_train = x_train.reshape(x_train.shape[0], 28, 28, 1)\n",
        "x_test = x_test.reshape(x_test.shape[0], 28, 28, 1)\n",
        "input_shape = (28, 28, 1)\n",
        "\n",
        "# convert class vectors to binary class matrices\n",
        "y_train = keras.utils.to_categorical(y_train, num_classes)\n",
        "y_test = keras.utils.to_categorical(y_test, num_classes)\n",
        "\n",
        "x_train = x_train.astype('float32')\n",
        "x_test = x_test.astype('float32')\n",
        "x_train /= 255\n",
        "x_test /= 255\n",
        "print('x_train shape:', x_train.shape)\n",
        "print(x_train.shape[0], 'train samples')\n",
        "print(x_test.shape[0], 'test samples')\n",
        "\n",
        "batch_size = 128\n",
        "num_classes = 10\n",
        "epochs = 10\n",
        "\n",
        "model = Sequential()\n",
        "model.add(Conv2D(32, kernel_size=(3, 3),activation='relu',input_shape=input_shape))\n",
        "model.add(Conv2D(64, (3, 3), activation='relu'))\n",
        "model.add(MaxPooling2D(pool_size=(2, 2)))\n",
        "model.add(Dropout(0.25))\n",
        "model.add(Flatten())\n",
        "model.add(Dense(256, activation='relu'))\n",
        "model.add(Dropout(0.5))\n",
        "model.add(Dense(num_classes, activation='softmax'))\n",
        "\n",
        "model.compile(loss=keras.losses.categorical_crossentropy,optimizer=keras.optimizers.Adadelta(),metrics=['accuracy'])\n",
        "\n",
        "hist = model.fit(x_train, y_train,batch_size=batch_size,epochs=epochs,verbose=1,validation_data=(x_test, y_test))\n",
        "print(\"The model has successfully trained\")\n",
        "\n",
        "model.save('mnist.h5')\n",
        "print(\"Saving the model as mnist.h5\")\n",
        "\n",
        "score = model.evaluate(x_test, y_test, verbose=0)\n",
        "print('Test loss:', score[0])\n",
        "print('Test accuracy:', score[1])"
      ],
      "metadata": {
        "colab": {
          "base_uri": "https://localhost:8080/"
        },
        "id": "4VrfmG6tRe18",
        "outputId": "2c7d49f7-6fcd-4e18-aa37-e9cbf7793af1"
      },
      "execution_count": null,
      "outputs": [
        {
          "output_type": "stream",
          "name": "stdout",
          "text": [
            "Downloading data from https://storage.googleapis.com/tensorflow/tf-keras-datasets/mnist.npz\n",
            "11490434/11490434 [==============================] - 1s 0us/step\n",
            "(60000, 28, 28) (60000,)\n",
            "x_train shape: (60000, 28, 28, 1)\n",
            "60000 train samples\n",
            "10000 test samples\n",
            "Epoch 1/10\n",
            "469/469 [==============================] - 165s 346ms/step - loss: 2.2882 - accuracy: 0.1472 - val_loss: 2.2693 - val_accuracy: 0.2523\n",
            "Epoch 2/10\n",
            "469/469 [==============================] - 150s 320ms/step - loss: 2.2557 - accuracy: 0.2461 - val_loss: 2.2298 - val_accuracy: 0.4158\n",
            "Epoch 3/10\n",
            "469/469 [==============================] - 157s 334ms/step - loss: 2.2139 - accuracy: 0.3520 - val_loss: 2.1774 - val_accuracy: 0.5584\n",
            "Epoch 4/10\n",
            "469/469 [==============================] - 153s 327ms/step - loss: 2.1552 - accuracy: 0.4505 - val_loss: 2.1009 - val_accuracy: 0.6523\n",
            "Epoch 5/10\n",
            "469/469 [==============================] - 152s 325ms/step - loss: 2.0687 - accuracy: 0.5260 - val_loss: 1.9849 - val_accuracy: 0.7128\n",
            "Epoch 6/10\n",
            "469/469 [==============================] - 152s 324ms/step - loss: 1.9379 - accuracy: 0.5832 - val_loss: 1.8123 - val_accuracy: 0.7453\n",
            "Epoch 7/10\n",
            "469/469 [==============================] - 149s 318ms/step - loss: 1.7528 - accuracy: 0.6247 - val_loss: 1.5768 - val_accuracy: 0.7639\n",
            "Epoch 8/10\n",
            "469/469 [==============================] - 146s 312ms/step - loss: 1.5246 - accuracy: 0.6521 - val_loss: 1.3080 - val_accuracy: 0.7839\n",
            "Epoch 9/10\n",
            "469/469 [==============================] - 147s 313ms/step - loss: 1.2997 - accuracy: 0.6792 - val_loss: 1.0673 - val_accuracy: 0.8076\n",
            "Epoch 10/10\n",
            "469/469 [==============================] - 146s 310ms/step - loss: 1.1203 - accuracy: 0.7028 - val_loss: 0.8871 - val_accuracy: 0.8244\n",
            "The model has successfully trained\n",
            "Saving the model as mnist.h5\n"
          ]
        },
        {
          "output_type": "stream",
          "name": "stderr",
          "text": [
            "/usr/local/lib/python3.10/dist-packages/keras/src/engine/training.py:3103: UserWarning: You are saving your model as an HDF5 file via `model.save()`. This file format is considered legacy. We recommend using instead the native Keras format, e.g. `model.save('my_model.keras')`.\n",
            "  saving_api.save_model(\n"
          ]
        },
        {
          "output_type": "stream",
          "name": "stdout",
          "text": [
            "Test loss: 0.8871288299560547\n",
            "Test accuracy: 0.824400007724762\n"
          ]
        }
      ]
    }
  ]
}